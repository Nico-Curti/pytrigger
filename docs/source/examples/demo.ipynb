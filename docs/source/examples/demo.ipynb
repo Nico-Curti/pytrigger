{
 "cells": [
  {
   "cell_type": "markdown",
   "id": "14e9cfe1",
   "metadata": {},
   "source": [
    "# Demo - pyTrigger\n",
    "### Usage example\n",
    "\n",
    "The purpose of this demo is to show the main functionalities and usages of the `trigger` python package.\n",
    "\n",
    "The entire workflow of processing, indeed, is based on the correct usage of the object exposed by the package and called `TriggerDB`.\n",
    "\n",
    "First of all, lets start by including the module in our python script as follow:\n"
   ]
  },
  {
   "cell_type": "code",
   "execution_count": 1,
   "id": "262b31dd",
   "metadata": {},
   "outputs": [],
   "source": [
    "from trigger import TriggerDB"
   ]
  },
  {
   "cell_type": "markdown",
   "id": "1dd61f8f",
   "metadata": {},
   "source": [
    "Now we can create an instance of the object by using a sequential code or a context (*recommended*).\n",
    "\n",
    "The second option is recommended since it guarantees the correct *logout* of the account at the end of the execution.\n",
    "\n",
    "| 🚩 Note                        |\n",
    "|:-------------------------------|\n",
    "| For the correct configuration of the database account, at the first usage of the object the package will ask us to insert a *email* and *password* credentials; these information will be saved into a secure location and they will be automatically used in any future setup |"
   ]
  },
  {
   "cell_type": "code",
   "execution_count": 2,
   "id": "9c9cba90",
   "metadata": {},
   "outputs": [
    {
     "name": "stdout",
     "output_type": "stream",
     "text": [
      "\u001b[38;5;208m[WARN]\u001b[0m Credentials not found\n",
      "\u001b[38;5;40m[INFO]\u001b[0m Credentials stored successfully\n",
      "<trigger.db.TriggerDB object at 0x00000235ADAD8550>\n",
      "\u001b[38;5;40m[INFO]\u001b[0m Logout success\n"
     ]
    }
   ],
   "source": [
    "with TriggerDB() as db:\n",
    "  print(db)"
   ]
  },
  {
   "cell_type": "markdown",
   "id": "ae68f686",
   "metadata": {},
   "source": [
    "As you can notice, an automatic logging of the status of the server is produced, highlighting the correct setup of the account and the final logout.\n",
    "\n",
    "The `db` object has a series of private and public member functions: we discourage the usage of the private function unless particular needs.\n",
    "\n",
    "The entire list of member functions could be listed below:"
   ]
  },
  {
   "cell_type": "code",
   "execution_count": 3,
   "id": "3baf793b",
   "metadata": {},
   "outputs": [
    {
     "name": "stdout",
     "output_type": "stream",
     "text": [
      "\u001b[38;5;40m[INFO]\u001b[0m Credentials loaded successfully\n",
      "['accounts', 'columns', 'from_', 'num_elements', 'select', 'tables']\n",
      "\u001b[38;5;40m[INFO]\u001b[0m Logout success\n"
     ]
    }
   ],
   "source": [
    "with TriggerDB() as db:\n",
    "  print([x for x in dir(db) if not x.startswith('_')])"
   ]
  },
  {
   "cell_type": "markdown",
   "id": "dd27ba10",
   "metadata": {},
   "source": [
    "Each member function could be used to obtain a different set of information.\n",
    "\n",
    "The main functionalities for the management of the database tables are described by the following functions:\n",
    "\n",
    "* *tables* ➡️ Get the list of available tables\n",
    "* *columns* ➡️ Get the list of available columns in the current table\n",
    "* *accounts* ➡️ Get the list of available accounts\n",
    "\n",
    "A common usage of the database, indeed, involves the extraction of records belonging to a particular user account, so, first of all, we need to know the available tables, the set of information stored in that table and the list of possible accounts to check.\n",
    "Lets start by the list of available accounts:"
   ]
  },
  {
   "cell_type": "code",
   "execution_count": 4,
   "id": "6280a3a3",
   "metadata": {},
   "outputs": [
    {
     "name": "stdout",
     "output_type": "stream",
     "text": [
      "\u001b[38;5;40m[INFO]\u001b[0m Credentials loaded successfully\n",
      "\u001b[38;5;208m[WARN]\u001b[0m Maximum limit exceeded. Given 100000 against a maximum of 10000. Automated downgrade to the maximum value\n",
      "[{'email': 'n.curti1'}, {'email': 'a.merlot'}, {'email': 'cnr00001'}, {'email': 'DE000003'}, {'email': 'CH000004'}, {'email': 'CH000005'}, {'email': 'GR000006'}, {'email': 'GR000007'}, {'email': 'GR000008'}, {'email': 'CH000009'}, {'email': 'DE000010'}, {'email': 'DE000011'}, {'email': 'GR000012'}, {'email': 'DE000013'}, {'email': 'DE000014'}, {'email': 'DE000015'}, {'email': 'GR000016'}, {'email': 'DE000017'}, {'email': 'GR000018'}, {'email': 'DE000019'}, {'email': 'DE000020'}, {'email': 'GR000021'}, {'email': 'DE000022'}, {'email': 'DE000023'}, {'email': 'DE000024'}, {'email': 'GR000025'}, {'email': 'GR000026'}, {'email': 'GR000027'}, {'email': 'GR000028'}, {'email': 'GR000029'}, {'email': 'GR000030'}, {'email': 'GR000031'}, {'email': 'GR000032'}, {'email': 'GR000033'}, {'email': 'GR000034'}, {'email': 'GR000035'}, {'email': 'GR000036'}, {'email': 'GR000037'}, {'email': 'GR000038'}, {'email': 'GR000039'}, {'email': 'GR000040'}, {'email': 'GR000041'}, {'email': 'GR000042'}, {'email': 'GR000043'}, {'email': 'GR000044'}, {'email': 'GR000045'}, {'email': 'GR000046'}, {'email': 'GR000047'}, {'email': 'GR000048'}, {'email': 'GR000049'}, {'email': 'GR000050'}, {'email': 'GR000051'}, {'email': 'GR000052'}, {'email': 'GR000053'}, {'email': 'GR000054'}, {'email': 'GR000055'}, {'email': 'GR000056'}, {'email': 'DE000057'}, {'email': 'IT000058'}, {'email': 'IT000059'}, {'email': 'IT000060'}, {'email': 'IT000061'}, {'email': 'IT000062'}, {'email': 'IT000063'}, {'email': 'IT000064'}, {'email': 'IT000065'}, {'email': 'IT000066'}, {'email': 'GR000067'}, {'email': 'GR000068'}, {'email': 'IT000069'}, {'email': 'GR000070'}, {'email': 'GR000071'}, {'email': 'GR000072'}, {'email': 'GR000073'}, {'email': 'GR000074'}, {'email': 'GR000075'}, {'email': 'DE000076'}, {'email': 'DE000077'}, {'email': 'DE000078'}, {'email': 'DE000079'}, {'email': 'DE000080'}, {'email': 'DE000081'}, {'email': 'DE000082'}, {'email': 'DE000083'}, {'email': 'DE000084'}, {'email': 'DE000085'}, {'email': 'DE000086'}, {'email': 'DE000087'}, {'email': 'DE000088'}, {'email': 'DE000089'}, {'email': 'DE000090'}, {'email': 'DE000091'}, {'email': 'IT000092'}, {'email': 'GR000093'}, {'email': 'GR000094'}, {'email': 'GR000095'}, {'email': 'GR000096'}, {'email': 'GR000097'}, {'email': 'GR000098'}, {'email': 'GR000099'}, {'email': 'GR000100'}, {'email': 'm.carell'}, {'email': 'i.diembe'}, {'email': 's.disaba'}, {'email': 'e.bratti'}, {'email': 'a.hoffma'}, {'email': 'c.perdik'}, {'email': 'a.spadot'}, {'email': 'CH000108'}, {'email': 'IT000109'}, {'email': 'IT000110'}, {'email': 'GR000111'}, {'email': 'GR000112'}, {'email': 'CH000113'}, {'email': 'CH000114'}, {'email': 'CH000115'}, {'email': 'CH000116'}, {'email': 'CH000117'}, {'email': 'CH000118'}, {'email': 'DE000119'}, {'email': 'DE000120'}, {'email': 'DE000121'}, {'email': 'DE000122'}, {'email': 'DE000123'}, {'email': 'DE000124'}, {'email': 'DE000125'}, {'email': 'CH000126'}, {'email': 'CH000127'}, {'email': 'CH000128'}, {'email': 'GR000129'}, {'email': 'CH000130'}, {'email': 'IT000131'}, {'email': 'CH000132'}, {'email': 'IT000133'}, {'email': 'GR000134'}, {'email': 'GR000135'}, {'email': 'GR000136'}, {'email': 'GR000137'}, {'email': 'IT000138'}, {'email': 'IT000139'}, {'email': 'GR000140'}, {'email': 'a.fuschi'}]\n",
      "\u001b[38;5;40m[INFO]\u001b[0m Logout success\n"
     ]
    }
   ],
   "source": [
    "with TriggerDB() as db:\n",
    "  print(db.accounts())"
   ]
  },
  {
   "cell_type": "markdown",
   "id": "9bed06eb",
   "metadata": {},
   "source": [
    "This is out first query on the database and you can notice that the output is a standard JSON made by a list of dictionaries.\n",
    "\n",
    "To facilitate the readability of the output we can use the `pandas` package to convert it into a dataframe as follow:"
   ]
  },
  {
   "cell_type": "code",
   "execution_count": 5,
   "id": "5d95ae74",
   "metadata": {},
   "outputs": [
    {
     "name": "stdout",
     "output_type": "stream",
     "text": [
      "\u001b[38;5;40m[INFO]\u001b[0m Credentials loaded successfully\n",
      "\u001b[38;5;208m[WARN]\u001b[0m Maximum limit exceeded. Given 100000 against a maximum of 10000. Automated downgrade to the maximum value\n",
      "\u001b[38;5;40m[INFO]\u001b[0m Logout success\n"
     ]
    },
    {
     "data": {
      "text/html": [
       "<div>\n",
       "<style scoped>\n",
       "    .dataframe tbody tr th:only-of-type {\n",
       "        vertical-align: middle;\n",
       "    }\n",
       "\n",
       "    .dataframe tbody tr th {\n",
       "        vertical-align: top;\n",
       "    }\n",
       "\n",
       "    .dataframe thead th {\n",
       "        text-align: right;\n",
       "    }\n",
       "</style>\n",
       "<table border=\"1\" class=\"dataframe\">\n",
       "  <thead>\n",
       "    <tr style=\"text-align: right;\">\n",
       "      <th></th>\n",
       "      <th>email</th>\n",
       "    </tr>\n",
       "  </thead>\n",
       "  <tbody>\n",
       "    <tr>\n",
       "      <th>0</th>\n",
       "      <td>n.curti1</td>\n",
       "    </tr>\n",
       "    <tr>\n",
       "      <th>1</th>\n",
       "      <td>a.merlot</td>\n",
       "    </tr>\n",
       "    <tr>\n",
       "      <th>2</th>\n",
       "      <td>cnr00001</td>\n",
       "    </tr>\n",
       "    <tr>\n",
       "      <th>3</th>\n",
       "      <td>DE000003</td>\n",
       "    </tr>\n",
       "    <tr>\n",
       "      <th>4</th>\n",
       "      <td>CH000004</td>\n",
       "    </tr>\n",
       "    <tr>\n",
       "      <th>...</th>\n",
       "      <td>...</td>\n",
       "    </tr>\n",
       "    <tr>\n",
       "      <th>137</th>\n",
       "      <td>GR000137</td>\n",
       "    </tr>\n",
       "    <tr>\n",
       "      <th>138</th>\n",
       "      <td>IT000138</td>\n",
       "    </tr>\n",
       "    <tr>\n",
       "      <th>139</th>\n",
       "      <td>IT000139</td>\n",
       "    </tr>\n",
       "    <tr>\n",
       "      <th>140</th>\n",
       "      <td>GR000140</td>\n",
       "    </tr>\n",
       "    <tr>\n",
       "      <th>141</th>\n",
       "      <td>a.fuschi</td>\n",
       "    </tr>\n",
       "  </tbody>\n",
       "</table>\n",
       "<p>142 rows × 1 columns</p>\n",
       "</div>"
      ],
      "text/plain": [
       "        email\n",
       "0    n.curti1\n",
       "1    a.merlot\n",
       "2    cnr00001\n",
       "3    DE000003\n",
       "4    CH000004\n",
       "..        ...\n",
       "137  GR000137\n",
       "138  IT000138\n",
       "139  IT000139\n",
       "140  GR000140\n",
       "141  a.fuschi\n",
       "\n",
       "[142 rows x 1 columns]"
      ]
     },
     "execution_count": 5,
     "metadata": {},
     "output_type": "execute_result"
    }
   ],
   "source": [
    "import pandas as pd\n",
    "\n",
    "with TriggerDB() as db:\n",
    "  df = pd.json_normalize(db.accounts())\n",
    "\n",
    "df"
   ]
  },
  {
   "cell_type": "markdown",
   "id": "829a1db5",
   "metadata": {},
   "source": [
    "In this way we can easily manipulate the amount of information get by the query and see the amount of accounts registered in the current database.\n",
    "\n",
    "The next processing involves the available tables and information stored in them.\n",
    "\n",
    "To this purpose we can use the combination of *tables* and *columns* member functions as follow:"
   ]
  },
  {
   "cell_type": "code",
   "execution_count": 6,
   "id": "8847bc2c",
   "metadata": {},
   "outputs": [
    {
     "name": "stdout",
     "output_type": "stream",
     "text": [
      "\u001b[38;5;40m[INFO]\u001b[0m Credentials loaded successfully\n",
      "Available tables: ['myair', 'ecg', 'ppg', 'gps', 'sleep', 'smartwatchlow', 'smartwatchhigh', 'accounts']\n",
      "  myair: ['email', 'userId', 'year', 'month', 'day', 'hour', 'minute', 'second', 'pm1', 'pm25', 'pm10', 'pc03', 'pc05', 'pc1', 'pc25', 'pc5', 'pc10', 'temperature', 'humidity', 'pressure', 'sound', 'uvb', 'light']\n",
      "  ecg: ['email', 'userId', 'year', 'month', 'day', 'hour', 'minute', 'second', 'microsecond', 'ecg']\n",
      "  ppg: ['email', 'userId', 'year', 'month', 'day', 'hour', 'minute', 'second', 'microsecond', 'ppg']\n",
      "  gps: ['email', 'userId', 'year', 'month', 'day', 'hour', 'minute', 'second', 'longitude', 'latitude', 'accuracy']\n",
      "  sleep: ['email', 'userId', 'year', 'month', 'day', 'hour', 'minute', 'second', 'sleepduration', 'awake', 'insomnia', 'remsleep', 'lightsleep', 'deepsleep', 'sleepquality']\n",
      "  smartwatchlow: ['email', 'userId', 'year', 'month', 'day', 'hour', 'minute', 'second', 'step', 'cal', 'bphigh', 'bplow', 'bodytemp']\n",
      "  smartwatchhigh: ['email', 'userId', 'year', 'month', 'day', 'hour', 'minute', 'second', 'heartrate', 'sleeprate', 'oxygens']\n",
      "  accounts: ['id', 'email', 'created_at', 'last_login']\n",
      "\u001b[38;5;40m[INFO]\u001b[0m Logout success\n"
     ]
    }
   ],
   "source": [
    "with TriggerDB() as db:\n",
    "  tables = db.tables()\n",
    "  print(f'Available tables: {tables}')\n",
    "  for tab in tables:\n",
    "    print(f'  {tab}: {db.columns(tab)}')"
   ]
  },
  {
   "cell_type": "markdown",
   "id": "39c1bda6",
   "metadata": {},
   "source": [
    "From this overview we can notice that each column has always an *email* column which lists the information get by our previous analysis about the amount of accounts.\n",
    "The *email* information represents the **link** between the users and the information stored into the several tables and it could be used to extract the data associated to each account.\n",
    "\n",
    "| 🚩 Note                        |\n",
    "|:-------------------------------|\n",
    "| The list of variable types is described in the online documentation available [here](https://trigger-io.difa.unibo.it/apiDocs.html) |\n",
    "\n",
    "Starting from these information, we are now ready to perform our first (realistic) query on the database.\n",
    "\n",
    "To this purpose, the `trigger` package provides two different interface: *standard* and *chaining*.\n",
    "\n",
    "For a better readability of the code and a correct management of the desired query, we encourage the use of the *chaining* modality: for sake of completeness, the *standard* way can be easily addressed by calling the `select` member function of the object.\n",
    "\n",
    "The chaining modality could be used by calling the `from_` member function which requires the table that we want to analyze."
   ]
  },
  {
   "cell_type": "code",
   "execution_count": 7,
   "id": "47f2c76c",
   "metadata": {},
   "outputs": [
    {
     "name": "stdout",
     "output_type": "stream",
     "text": [
      "\u001b[38;5;40m[INFO]\u001b[0m Credentials loaded successfully\n",
      "\u001b[38;5;40m[INFO]\u001b[0m Logout success\n"
     ]
    },
    {
     "data": {
      "text/html": [
       "<div>\n",
       "<style scoped>\n",
       "    .dataframe tbody tr th:only-of-type {\n",
       "        vertical-align: middle;\n",
       "    }\n",
       "\n",
       "    .dataframe tbody tr th {\n",
       "        vertical-align: top;\n",
       "    }\n",
       "\n",
       "    .dataframe thead th {\n",
       "        text-align: right;\n",
       "    }\n",
       "</style>\n",
       "<table border=\"1\" class=\"dataframe\">\n",
       "  <thead>\n",
       "    <tr style=\"text-align: right;\">\n",
       "      <th></th>\n",
       "      <th>email</th>\n",
       "      <th>year</th>\n",
       "      <th>month</th>\n",
       "      <th>day</th>\n",
       "      <th>hour</th>\n",
       "      <th>minute</th>\n",
       "      <th>second</th>\n",
       "      <th>temperature</th>\n",
       "      <th>humidity</th>\n",
       "      <th>pressure</th>\n",
       "    </tr>\n",
       "  </thead>\n",
       "  <tbody>\n",
       "    <tr>\n",
       "      <th>0</th>\n",
       "      <td>DE000086</td>\n",
       "      <td>2025</td>\n",
       "      <td>9</td>\n",
       "      <td>10</td>\n",
       "      <td>9</td>\n",
       "      <td>55</td>\n",
       "      <td>4</td>\n",
       "      <td>27</td>\n",
       "      <td>50</td>\n",
       "      <td>1015</td>\n",
       "    </tr>\n",
       "    <tr>\n",
       "      <th>1</th>\n",
       "      <td>DE000086</td>\n",
       "      <td>2025</td>\n",
       "      <td>9</td>\n",
       "      <td>10</td>\n",
       "      <td>9</td>\n",
       "      <td>56</td>\n",
       "      <td>4</td>\n",
       "      <td>27</td>\n",
       "      <td>78</td>\n",
       "      <td>1015</td>\n",
       "    </tr>\n",
       "    <tr>\n",
       "      <th>2</th>\n",
       "      <td>DE000086</td>\n",
       "      <td>2025</td>\n",
       "      <td>9</td>\n",
       "      <td>10</td>\n",
       "      <td>9</td>\n",
       "      <td>57</td>\n",
       "      <td>4</td>\n",
       "      <td>28</td>\n",
       "      <td>79</td>\n",
       "      <td>1015</td>\n",
       "    </tr>\n",
       "    <tr>\n",
       "      <th>3</th>\n",
       "      <td>DE000086</td>\n",
       "      <td>2025</td>\n",
       "      <td>9</td>\n",
       "      <td>10</td>\n",
       "      <td>9</td>\n",
       "      <td>58</td>\n",
       "      <td>4</td>\n",
       "      <td>28</td>\n",
       "      <td>71</td>\n",
       "      <td>1015</td>\n",
       "    </tr>\n",
       "    <tr>\n",
       "      <th>4</th>\n",
       "      <td>DE000086</td>\n",
       "      <td>2025</td>\n",
       "      <td>9</td>\n",
       "      <td>10</td>\n",
       "      <td>9</td>\n",
       "      <td>59</td>\n",
       "      <td>4</td>\n",
       "      <td>28</td>\n",
       "      <td>55</td>\n",
       "      <td>1015</td>\n",
       "    </tr>\n",
       "    <tr>\n",
       "      <th>...</th>\n",
       "      <td>...</td>\n",
       "      <td>...</td>\n",
       "      <td>...</td>\n",
       "      <td>...</td>\n",
       "      <td>...</td>\n",
       "      <td>...</td>\n",
       "      <td>...</td>\n",
       "      <td>...</td>\n",
       "      <td>...</td>\n",
       "      <td>...</td>\n",
       "    </tr>\n",
       "    <tr>\n",
       "      <th>340</th>\n",
       "      <td>DE000086</td>\n",
       "      <td>2025</td>\n",
       "      <td>9</td>\n",
       "      <td>10</td>\n",
       "      <td>12</td>\n",
       "      <td>10</td>\n",
       "      <td>4</td>\n",
       "      <td>31</td>\n",
       "      <td>74</td>\n",
       "      <td>1012</td>\n",
       "    </tr>\n",
       "    <tr>\n",
       "      <th>341</th>\n",
       "      <td>DE000086</td>\n",
       "      <td>2025</td>\n",
       "      <td>9</td>\n",
       "      <td>10</td>\n",
       "      <td>12</td>\n",
       "      <td>11</td>\n",
       "      <td>4</td>\n",
       "      <td>31</td>\n",
       "      <td>74</td>\n",
       "      <td>1012</td>\n",
       "    </tr>\n",
       "    <tr>\n",
       "      <th>342</th>\n",
       "      <td>DE000086</td>\n",
       "      <td>2025</td>\n",
       "      <td>9</td>\n",
       "      <td>10</td>\n",
       "      <td>12</td>\n",
       "      <td>12</td>\n",
       "      <td>4</td>\n",
       "      <td>31</td>\n",
       "      <td>73</td>\n",
       "      <td>1012</td>\n",
       "    </tr>\n",
       "    <tr>\n",
       "      <th>343</th>\n",
       "      <td>DE000086</td>\n",
       "      <td>2025</td>\n",
       "      <td>9</td>\n",
       "      <td>10</td>\n",
       "      <td>12</td>\n",
       "      <td>13</td>\n",
       "      <td>4</td>\n",
       "      <td>31</td>\n",
       "      <td>73</td>\n",
       "      <td>1012</td>\n",
       "    </tr>\n",
       "    <tr>\n",
       "      <th>344</th>\n",
       "      <td>DE000086</td>\n",
       "      <td>2025</td>\n",
       "      <td>9</td>\n",
       "      <td>10</td>\n",
       "      <td>12</td>\n",
       "      <td>14</td>\n",
       "      <td>4</td>\n",
       "      <td>31</td>\n",
       "      <td>72</td>\n",
       "      <td>1012</td>\n",
       "    </tr>\n",
       "  </tbody>\n",
       "</table>\n",
       "<p>345 rows × 10 columns</p>\n",
       "</div>"
      ],
      "text/plain": [
       "        email  year  month  day  hour  minute  second  temperature  humidity  \\\n",
       "0    DE000086  2025      9   10     9      55       4           27        50   \n",
       "1    DE000086  2025      9   10     9      56       4           27        78   \n",
       "2    DE000086  2025      9   10     9      57       4           28        79   \n",
       "3    DE000086  2025      9   10     9      58       4           28        71   \n",
       "4    DE000086  2025      9   10     9      59       4           28        55   \n",
       "..        ...   ...    ...  ...   ...     ...     ...          ...       ...   \n",
       "340  DE000086  2025      9   10    12      10       4           31        74   \n",
       "341  DE000086  2025      9   10    12      11       4           31        74   \n",
       "342  DE000086  2025      9   10    12      12       4           31        73   \n",
       "343  DE000086  2025      9   10    12      13       4           31        73   \n",
       "344  DE000086  2025      9   10    12      14       4           31        72   \n",
       "\n",
       "     pressure  \n",
       "0        1015  \n",
       "1        1015  \n",
       "2        1015  \n",
       "3        1015  \n",
       "4        1015  \n",
       "..        ...  \n",
       "340      1012  \n",
       "341      1012  \n",
       "342      1012  \n",
       "343      1012  \n",
       "344      1012  \n",
       "\n",
       "[345 rows x 10 columns]"
      ]
     },
     "execution_count": 7,
     "metadata": {},
     "output_type": "execute_result"
    }
   ],
   "source": [
    "with TriggerDB() as db:\n",
    "  res = (\n",
    "    db.from_('myair')\n",
    "      .select('email', 'year', 'month', 'day', 'hour', 'minute', 'second', 'temperature', 'humidity', 'pressure')\n",
    "      .where(year='=2025', month='=9', day='=10', hour='>=0', email='=DE000086')\n",
    "      .order_by('year,month,day,hour,minute,second')\n",
    "      .asc()\n",
    "      .limit(10000)\n",
    "      .fetch()\n",
    "  )\n",
    "\n",
    "df = pd.json_normalize(res)\n",
    "df"
   ]
  },
  {
   "cell_type": "markdown",
   "id": "21be81f6",
   "metadata": {},
   "source": [
    "| 🚩 Note                        |\n",
    "|:-------------------------------|\n",
    "| The execution time of the query is drastically affected by the amount of data stored in the database **and** by the `order_by` criteria; for this reasons also a \"simple\" query could require an execution time of the order of minutes (!) |\n",
    "\n",
    "Now we can easily display the trend of the climate variables for the selected day:"
   ]
  },
  {
   "cell_type": "code",
   "execution_count": 8,
   "id": "8a7aa1bc",
   "metadata": {},
   "outputs": [
    {
     "data": {
      "image/png": "[encoded data removed]",
      "text/plain": [
       "<Figure size 1440x360 with 3 Axes>"
      ]
     },
     "metadata": {
      "needs_background": "light"
     },
     "output_type": "display_data"
    }
   ],
   "source": [
    "import pylab as plt\n",
    "import seaborn as sns\n",
    "\n",
    "time = pd.to_datetime(df[['year', 'month', 'day', 'hour', 'minute', 'second']], format='%Y-%m-%d %H:%M:%S.%f')\n",
    "\n",
    "with sns.plotting_context('paper', font_scale=1.5):\n",
    "  fig, ax = plt.subplots(nrows=1, ncols=1, figsize=(20, 5))\n",
    "  sns.lineplot(\n",
    "    ax=ax,\n",
    "    x=time,\n",
    "    y=df['temperature'],\n",
    "    color='orange',\n",
    "  )\n",
    "  ax1 = ax.twinx()\n",
    "  sns.lineplot(\n",
    "    ax=ax1,\n",
    "    x=time,\n",
    "    y=df['humidity'],\n",
    "    color='cornflowerblue',\n",
    "  )\n",
    "  ax2 = ax.twinx()\n",
    "  sns.lineplot(\n",
    "    ax=ax2,\n",
    "    x=time,\n",
    "    y=df['pressure'],\n",
    "    color='forestgreen',\n",
    "  )\n",
    "  sns.despine(\n",
    "    ax=ax, \n",
    "    top=True, \n",
    "    right=True, \n",
    "    left=False, \n",
    "    bottom=False, \n",
    "    offset=10\n",
    "  )\n",
    "  sns.despine(\n",
    "    ax=ax1, \n",
    "    top=True, \n",
    "    right=False, \n",
    "    left=False, \n",
    "    bottom=True, \n",
    "    offset=10\n",
    "  )\n",
    "  \n",
    "  sns.despine(\n",
    "    ax=ax2, \n",
    "    top=True, \n",
    "    right=False, \n",
    "    left=True, \n",
    "    bottom=True, \n",
    "    offset=80\n",
    "  )\n",
    "\n",
    "  ax.set_ylabel('temperature', color='orange')\n",
    "  ax1.set_ylabel('humidity', color='cornflowerblue')\n",
    "  ax2.set_ylabel('pressure', color='forestgreen')  "
   ]
  }
 ],
 "metadata": {
  "kernelspec": {
   "display_name": "Python 3",
   "language": "python",
   "name": "python3"
  },
  "language_info": {
   "codemirror_mode": {
    "name": "ipython",
    "version": 3
   },
   "file_extension": ".py",
   "mimetype": "text/x-python",
   "name": "python",
   "nbconvert_exporter": "python",
   "pygments_lexer": "ipython3",
   "version": "3.10.4"
  }
 },
 "nbformat": 4,
 "nbformat_minor": 5
}
